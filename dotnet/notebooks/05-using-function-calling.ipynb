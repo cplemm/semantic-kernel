{
 "cells": [
  {
   "attachments": {},
   "cell_type": "markdown",
   "metadata": {},
   "source": [
    "# Introduction to the Function Calling\n",
    "\n",
    "The most powerful feature of chat completion is the ability to call functions from the model. This allows you to create a chat bot that can interact with your existing code, making it possible to automate business processes, create code snippets, and more.\n",
    "\n",
    "With Semantic Kernel, we simplify the process of using function calling by automatically describing your functions and their parameters to the model and then handling the back-and-forth communication between the model and your code.\n",
    "\n",
    "Read more about it [here](https://learn.microsoft.com/en-us/semantic-kernel/concepts/ai-services/chat-completion/function-calling)."
   ]
  },
  {
   "cell_type": "code",
   "execution_count": 1,
   "metadata": {
    "dotnet_interactive": {
     "language": "csharp"
    },
    "polyglot_notebook": {
     "kernelName": "csharp"
    }
   },
   "outputs": [
    {
     "data": {
      "text/html": [
       "<div><div></div><div></div><div><strong>Installed Packages</strong><ul><li><span>Microsoft.SemanticKernel, 1.23.0</span></li></ul></div></div>"
      ]
     },
     "metadata": {},
     "output_type": "display_data"
    }
   ],
   "source": [
    "#r \"nuget: Microsoft.SemanticKernel, 1.23.0\"\n",
    "\n",
    "#!import config/Settings.cs\n",
    "#!import config/Utils.cs\n",
    "\n",
    "using Microsoft.SemanticKernel;\n",
    "using Microsoft.SemanticKernel.Connectors.OpenAI;\n",
    "using Kernel = Microsoft.SemanticKernel.Kernel;\n",
    "\n",
    "var builder = Kernel.CreateBuilder();\n",
    "\n",
    "// Configure AI backend used by the kernel\n",
    "var (useAzureOpenAI, model, azureEndpoint, apiKey, orgId) = Settings.LoadFromFile();\n",
    "\n",
    "if (useAzureOpenAI)\n",
    "    builder.AddAzureOpenAIChatCompletion(model, azureEndpoint, apiKey);\n",
    "else\n",
    "    builder.AddOpenAIChatCompletion(model, apiKey, orgId);\n",
    "\n",
    "var kernel = builder.Build();"
   ]
  },
  {
   "attachments": {},
   "cell_type": "markdown",
   "metadata": {},
   "source": [
    "### Setting Up Execution Settings"
   ]
  },
  {
   "cell_type": "markdown",
   "metadata": {},
   "source": [
    "Using `FunctionChoiceBehavior.Auto()` will enable automatic function calling. There are also other options like `Required` or `None` which allow to control function calling behavior. More information about it can be found [here](https://learn.microsoft.com/en-gb/semantic-kernel/concepts/ai-services/chat-completion/function-calling/function-choice-behaviors?pivots=programming-language-csharp)."
   ]
  },
  {
   "cell_type": "code",
   "execution_count": 2,
   "metadata": {
    "dotnet_interactive": {
     "language": "csharp"
    },
    "polyglot_notebook": {
     "kernelName": "csharp"
    }
   },
   "outputs": [],
   "source": [
    "#pragma warning disable SKEXP0001\n",
    "\n",
    "OpenAIPromptExecutionSettings openAIPromptExecutionSettings = new() \n",
    "{\n",
    "    FunctionChoiceBehavior = FunctionChoiceBehavior.Auto()\n",
    "};"
   ]
  },
  {
   "attachments": {},
   "cell_type": "markdown",
   "metadata": {},
   "source": [
    "### Providing plugins to the Kernel\n",
    "Function calling needs an information about available plugins/functions. Here we'll import the `SummarizePlugin` and `WriterPlugin` we have defined on disk."
   ]
  },
  {
   "cell_type": "code",
   "execution_count": 3,
   "metadata": {
    "dotnet_interactive": {
     "language": "csharp"
    },
    "polyglot_notebook": {
     "kernelName": "csharp"
    }
   },
   "outputs": [],
   "source": [
    "var pluginsDirectory = Path.Combine(System.IO.Directory.GetCurrentDirectory(), \"..\", \"..\", \"prompt_template_samples\");\n",
    "\n",
    "kernel.ImportPluginFromPromptDirectory(Path.Combine(pluginsDirectory, \"SummarizePlugin\"));\n",
    "kernel.ImportPluginFromPromptDirectory(Path.Combine(pluginsDirectory, \"WriterPlugin\"));"
   ]
  },
  {
   "attachments": {},
   "cell_type": "markdown",
   "metadata": {},
   "source": [
    "Define your ASK. What do you want the Kernel to do?"
   ]
  },
  {
   "cell_type": "code",
   "execution_count": 4,
   "metadata": {
    "dotnet_interactive": {
     "language": "csharp"
    },
    "polyglot_notebook": {
     "kernelName": "csharp"
    }
   },
   "outputs": [],
   "source": [
    "var ask = \"Tomorrow is Valentine's day. I need to come up with a few date ideas. My significant other likes poems so write them in the form of a poem.\";"
   ]
  },
  {
   "attachments": {},
   "cell_type": "markdown",
   "metadata": {},
   "source": [
    "Since we imported available plugins to Kernel and defined the ask, we can now invoke a prompt with all the provided information. \n",
    "\n",
    "We can run function calling with Kernel, if we are interested in result only."
   ]
  },
  {
   "cell_type": "code",
   "execution_count": 5,
   "metadata": {
    "dotnet_interactive": {
     "language": "csharp"
    },
    "polyglot_notebook": {
     "kernelName": "csharp"
    }
   },
   "outputs": [
    {
     "name": "stdout",
     "output_type": "stream",
     "text": [
      "Here are some date ideas expressed as poems for Valentine's Day:\n",
      "\n",
      "1. **Romantic Picnic:**\n",
      "   In the park on a blanket so fine,  \n",
      "   Two lovebirds with treats and some wine.  \n",
      "   But the ants joined the feast,  \n",
      "   And the wind blew the yeast—  \n",
      "   Now their bread's flying high like a sign!  \n",
      "\n",
      "2. **Candlelit Dinner:**\n",
      "   In a bistro so cozy and bright,  \n",
      "   Two lovers sat down for the night.  \n",
      "   But the candles, they swayed,  \n",
      "   And the waiter, dismayed,  \n",
      "   Served spaghetti with just candlelight!  \n",
      "\n",
      "3. **Movie Marathon:**\n",
      "   On Valentine's Day, quite the plan,  \n",
      "   A movie marathon began.  \n",
      "   With popcorn so pink,  \n",
      "   And chocolates that wink,  \n",
      "   Cupid's snacks in a big frying pan!  \n",
      "\n",
      "4. **Scenic Hike:**\n",
      "   On Valentine's Day, we took a hike,  \n",
      "   Up a hill with a view we both like.  \n",
      "   But I tripped on a root,  \n",
      "   And lost my left boot,  \n",
      "   So we laughed all the way to the bike.  \n",
      "\n",
      "5. **Wine Tasting Tour:**\n",
      "   On Valentine's Day, we set sail,  \n",
      "   To a vineyard with love in each pail.  \n",
      "   We sipped and we swirled,  \n",
      "   Till our heads lightly twirled,  \n",
      "   And proposed to a bottle of pale!  \n",
      "\n",
      "Enjoy your romantic day!\n"
     ]
    }
   ],
   "source": [
    "var result = await kernel.InvokePromptAsync(ask, new(openAIPromptExecutionSettings));\n",
    "\n",
    "Console.WriteLine(result);"
   ]
  },
  {
   "cell_type": "markdown",
   "metadata": {},
   "source": [
    "But we can also run it with `IChatCompletionService` to have an access to `ChatHistory` object, which allows us to see which functions were called as part of a function calling process. Note that passing a Kernel as a parameter to `GetChatMessageContentAsync` method is required, since Kernel holds an information about available plugins."
   ]
  },
  {
   "cell_type": "code",
   "execution_count": 6,
   "metadata": {
    "dotnet_interactive": {
     "language": "csharp"
    },
    "polyglot_notebook": {
     "kernelName": "csharp"
    }
   },
   "outputs": [
    {
     "name": "stdout",
     "output_type": "stream",
     "text": [
      "Result: Here are some date ideas turned into playful poems for Valentine's Day:\n",
      "\n",
      "1. **Romantic Picnic in the Park:**\n",
      "\n",
      "   In the park with a basket so grand,  \n",
      "   Two lovers had everything planned.  \n",
      "   But ants joined the feast,  \n",
      "   And wouldn't be ceased,  \n",
      "   Now they're dining with nature's own band!  \n",
      "   \n",
      "   The cheese was as fancy as gold,  \n",
      "   The wine, a story to be told.\n",
      "\n",
      "2. **Candlelit Dinner at Home:**\n",
      "\n",
      "   In a kitchen, a chef with a plan,  \n",
      "   Cooked up dishes that barely began,  \n",
      "   The pasta was glue,  \n",
      "   The soup turned to stew,  \n",
      "   But the candlelight hid every flan!  \n",
      "   \n",
      "   With a wink and a smile, they dined,  \n",
      "   Ignoring the food that malarkied. \n",
      "\n",
      "3. **Wine Tasting Event:**\n",
      "\n",
      "   At a wine tasting event, we did meet,  \n",
      "   With glasses and cheese, quite the treat.  \n",
      "   We swirled and we sipped,  \n",
      "   Then giggled and tripped,  \n",
      "   And left with a grape-stained receipt! 🍷\n",
      "\n",
      "4. **Scenic Hot Air Balloon Ride:**\n",
      "\n",
      "   In a basket up high we did float,  \n",
      "   With a pilot who once was a goat,  \n",
      "   He chewed on the map,  \n",
      "   Said, \"Oops, that's a wrap!\"  \n",
      "   And we landed on someone's old boat!\n",
      "\n",
      "5. **Couple's Spa Day:**\n",
      "\n",
      "   In a spa where the candles were bright,  \n",
      "   A couple sought pure delight.  \n",
      "   With cucumbers on eyes,  \n",
      "   And mud on their thighs,  \n",
      "   They giggled at their spa day plight!  \n",
      "\n",
      "   The masseuse gave a gentle squeeze,  \n",
      "   As they both tried not to sneeze.\n",
      "\n",
      "These ideas with a poetic twist should make for a memorable Valentine’s Day!\n",
      "\n",
      "Chat history: [{\"Role\":{\"Label\":\"user\"},\"Items\":[{\"$type\":\"TextContent\",\"Text\":\"Tomorrow is Valentine\\u0027s day. I need to come up with a few date ideas. My significant other likes poems so write them in the form of a poem.\"}]},{\"Role\":{\"Label\":\"Assistant\"},\"Items\":[{\"$type\":\"FunctionCallContent\",\"Id\":\"call_RhNSbls9POqPi939CHqgzKL0\",\"PluginName\":\"WriterPlugin\",\"FunctionName\":\"Brainstorm\",\"Arguments\":{\"input\":\"Valentine\\u0027s Day date ideas\"}}],\"ModelId\":\"gpt-4o\",\"Metadata\":{\"Id\":\"chatcmpl-AMrgr6Fa01k0zeib8If2kEZjlHzmv\",\"CreatedAt\":\"2024-10-27T07:09:25+00:00\",\"SystemFingerprint\":\"fp_d54531d9eb\",\"Usage\":{\"OutputTokenCount\":22,\"InputTokenCount\":862,\"TotalTokenCount\":884,\"OutputTokenDetails\":null},\"Refusal\":null,\"FinishReason\":\"ToolCalls\",\"ContentTokenLogProbabilities\":[],\"ChatResponseMessage.FunctionToolCalls\":[{\"Kind\":0,\"FunctionName\":\"WriterPlugin-Brainstorm\",\"FunctionArguments\":{},\"Id\":\"call_RhNSbls9POqPi939CHqgzKL0\"}]}},{\"Role\":{\"Label\":\"tool\"},\"Items\":[{\"$type\":\"TextContent\",\"Text\":\"1. Romantic picnic in the park with a gourmet basket.\\n2. Candlelit dinner at home with homemade dishes.\\n3. Attend a wine tasting event together.\\n4. Take a scenic hot air balloon ride.\\n5. Enjoy a couple\\u0027s spa day for relaxation.\\n6. Go stargazing with a telescope and blanket.\\n7. Visit an art gallery or museum followed by coffee.\\n8. Take a cooking class together.\\n9. Plan a weekend getaway to a cozy cabin.\\n10. Go for a sunset hike with a beautiful view.  \\n\"},{\"$type\":\"FunctionResultContent\",\"CallId\":\"call_RhNSbls9POqPi939CHqgzKL0\",\"PluginName\":\"WriterPlugin\",\"FunctionName\":\"Brainstorm\",\"Result\":\"1. Romantic picnic in the park with a gourmet basket.\\n2. Candlelit dinner at home with homemade dishes.\\n3. Attend a wine tasting event together.\\n4. Take a scenic hot air balloon ride.\\n5. Enjoy a couple\\u0027s spa day for relaxation.\\n6. Go stargazing with a telescope and blanket.\\n7. Visit an art gallery or museum followed by coffee.\\n8. Take a cooking class together.\\n9. Plan a weekend getaway to a cozy cabin.\\n10. Go for a sunset hike with a beautiful view.  \\n\"}]},{\"Role\":{\"Label\":\"Assistant\"},\"Items\":[{\"$type\":\"FunctionCallContent\",\"Id\":\"call_xxxZstOSfUQ26xAqlL37wiQA\",\"PluginName\":\"WriterPlugin\",\"FunctionName\":\"ShortPoem\",\"Arguments\":{\"input\":\"Romantic picnic in the park with a gourmet basket.\"}},{\"$type\":\"FunctionCallContent\",\"Id\":\"call_LRo5LEwDrjXPel2rg3Uf9pl6\",\"PluginName\":\"WriterPlugin\",\"FunctionName\":\"ShortPoem\",\"Arguments\":{\"input\":\"Candlelit dinner at home with homemade dishes.\"}},{\"$type\":\"FunctionCallContent\",\"Id\":\"call_0IxH0xZ3NmoTAUv19PrEB4GO\",\"PluginName\":\"WriterPlugin\",\"FunctionName\":\"ShortPoem\",\"Arguments\":{\"input\":\"Attend a wine tasting event together.\"}},{\"$type\":\"FunctionCallContent\",\"Id\":\"call_ehEd33mG7FOf1FsjVIPD2cp2\",\"PluginName\":\"WriterPlugin\",\"FunctionName\":\"ShortPoem\",\"Arguments\":{\"input\":\"Take a scenic hot air balloon ride.\"}},{\"$type\":\"FunctionCallContent\",\"Id\":\"call_8Z0doAwYWuw2OXiriS6ZBZqD\",\"PluginName\":\"WriterPlugin\",\"FunctionName\":\"ShortPoem\",\"Arguments\":{\"input\":\"Enjoy a couple\\u0027s spa day for relaxation.\"}}],\"ModelId\":\"gpt-4o\",\"Metadata\":{\"Id\":\"chatcmpl-AMrgtBSlMfd13Wx76zoxpn5quKFBR\",\"CreatedAt\":\"2024-10-27T07:09:27+00:00\",\"SystemFingerprint\":\"fp_d54531d9eb\",\"Usage\":{\"OutputTokenCount\":146,\"InputTokenCount\":1004,\"TotalTokenCount\":1150,\"OutputTokenDetails\":null},\"Refusal\":null,\"FinishReason\":\"ToolCalls\",\"ContentTokenLogProbabilities\":[],\"ChatResponseMessage.FunctionToolCalls\":[{\"Kind\":0,\"FunctionName\":\"WriterPlugin-ShortPoem\",\"FunctionArguments\":{},\"Id\":\"call_xxxZstOSfUQ26xAqlL37wiQA\"},{\"Kind\":0,\"FunctionName\":\"WriterPlugin-ShortPoem\",\"FunctionArguments\":{},\"Id\":\"call_LRo5LEwDrjXPel2rg3Uf9pl6\"},{\"Kind\":0,\"FunctionName\":\"WriterPlugin-ShortPoem\",\"FunctionArguments\":{},\"Id\":\"call_0IxH0xZ3NmoTAUv19PrEB4GO\"},{\"Kind\":0,\"FunctionName\":\"WriterPlugin-ShortPoem\",\"FunctionArguments\":{},\"Id\":\"call_ehEd33mG7FOf1FsjVIPD2cp2\"},{\"Kind\":0,\"FunctionName\":\"WriterPlugin-ShortPoem\",\"FunctionArguments\":{},\"Id\":\"call_8Z0doAwYWuw2OXiriS6ZBZqD\"}]}},{\"Role\":{\"Label\":\"tool\"},\"Items\":[{\"$type\":\"TextContent\",\"Text\":\"In the park with a basket so grand,  \\nTwo lovers had everything planned.  \\nBut ants joined the feast,  \\nAnd wouldn\\u0027t be ceased,  \\nNow they\\u0027re dining with nature\\u0027s own band!  \\n\\nThe cheese was as fancy as gold,  \\nThe wine, a story to be told.  \\nBut\"},{\"$type\":\"FunctionResultContent\",\"CallId\":\"call_xxxZstOSfUQ26xAqlL37wiQA\",\"PluginName\":\"WriterPlugin\",\"FunctionName\":\"ShortPoem\",\"Result\":\"In the park with a basket so grand,  \\nTwo lovers had everything planned.  \\nBut ants joined the feast,  \\nAnd wouldn\\u0027t be ceased,  \\nNow they\\u0027re dining with nature\\u0027s own band!  \\n\\nThe cheese was as fancy as gold,  \\nThe wine, a story to be told.  \\nBut\"}]},{\"Role\":{\"Label\":\"tool\"},\"Items\":[{\"$type\":\"TextContent\",\"Text\":\"In a kitchen, a chef with a plan,  \\nCooked up dishes that barely began,  \\nThe pasta was glue,  \\nThe soup turned to stew,  \\nBut the candlelight hid every flan!  \\n\\nWith a wink and a smile, they dined,  \\nIgnoring the food that mal\"},{\"$type\":\"FunctionResultContent\",\"CallId\":\"call_LRo5LEwDrjXPel2rg3Uf9pl6\",\"PluginName\":\"WriterPlugin\",\"FunctionName\":\"ShortPoem\",\"Result\":\"In a kitchen, a chef with a plan,  \\nCooked up dishes that barely began,  \\nThe pasta was glue,  \\nThe soup turned to stew,  \\nBut the candlelight hid every flan!  \\n\\nWith a wink and a smile, they dined,  \\nIgnoring the food that mal\"}]},{\"Role\":{\"Label\":\"tool\"},\"Items\":[{\"$type\":\"TextContent\",\"Text\":\"At a wine tasting event, we did meet,  \\nWith glasses and cheese, quite the treat.  \\nWe swirled and we sipped,  \\nThen giggled and tripped,  \\nAnd left with a grape-stained receipt! \\uD83C\\uDF77\"},{\"$type\":\"FunctionResultContent\",\"CallId\":\"call_0IxH0xZ3NmoTAUv19PrEB4GO\",\"PluginName\":\"WriterPlugin\",\"FunctionName\":\"ShortPoem\",\"Result\":\"At a wine tasting event, we did meet,  \\nWith glasses and cheese, quite the treat.  \\nWe swirled and we sipped,  \\nThen giggled and tripped,  \\nAnd left with a grape-stained receipt! \\uD83C\\uDF77\"}]},{\"Role\":{\"Label\":\"tool\"},\"Items\":[{\"$type\":\"TextContent\",\"Text\":\"In a basket up high we did float,  \\nWith a pilot who once was a goat,  \\nHe chewed on the map,  \\nSaid, \\u0022Oops, that\\u0027s a wrap!\\u0022  \\nAnd we landed on someone\\u0027s old boat!\"},{\"$type\":\"FunctionResultContent\",\"CallId\":\"call_ehEd33mG7FOf1FsjVIPD2cp2\",\"PluginName\":\"WriterPlugin\",\"FunctionName\":\"ShortPoem\",\"Result\":\"In a basket up high we did float,  \\nWith a pilot who once was a goat,  \\nHe chewed on the map,  \\nSaid, \\u0022Oops, that\\u0027s a wrap!\\u0022  \\nAnd we landed on someone\\u0027s old boat!\"}]},{\"Role\":{\"Label\":\"tool\"},\"Items\":[{\"$type\":\"TextContent\",\"Text\":\"In a spa where the candles were bright,  \\nA couple sought pure delight.  \\nWith cucumbers on eyes,  \\nAnd mud on their thighs,  \\nThey giggled at their spa day plight!  \\n\\nThe masseuse gave a gentle squeeze,  \\nAs they both tried not to sneeze.  \\n\"},{\"$type\":\"FunctionResultContent\",\"CallId\":\"call_8Z0doAwYWuw2OXiriS6ZBZqD\",\"PluginName\":\"WriterPlugin\",\"FunctionName\":\"ShortPoem\",\"Result\":\"In a spa where the candles were bright,  \\nA couple sought pure delight.  \\nWith cucumbers on eyes,  \\nAnd mud on their thighs,  \\nThey giggled at their spa day plight!  \\n\\nThe masseuse gave a gentle squeeze,  \\nAs they both tried not to sneeze.  \\n\"}]}]\n",
      "\n"
     ]
    }
   ],
   "source": [
    "using Microsoft.SemanticKernel.ChatCompletion;\n",
    "\n",
    "var chatCompletionService = kernel.GetRequiredService<IChatCompletionService>();\n",
    "\n",
    "var chatHistory = new ChatHistory();\n",
    "\n",
    "chatHistory.AddUserMessage(ask);\n",
    "\n",
    "var chatCompletionResult = await chatCompletionService.GetChatMessageContentAsync(chatHistory, openAIPromptExecutionSettings, kernel);\n",
    "\n",
    "Console.WriteLine($\"Result: {chatCompletionResult}\\n\");\n",
    "Console.WriteLine($\"Chat history: {JsonSerializer.Serialize(chatHistory)}\\n\");"
   ]
  }
 ],
 "metadata": {
  "kernelspec": {
   "display_name": ".NET (C#)",
   "language": "C#",
   "name": ".net-csharp"
  },
  "language_info": {
   "name": "polyglot-notebook"
  },
  "polyglot_notebook": {
   "kernelInfo": {
    "defaultKernelName": "csharp",
    "items": [
     {
      "aliases": [],
      "name": "csharp"
     }
    ]
   }
  }
 },
 "nbformat": 4,
 "nbformat_minor": 2
}
